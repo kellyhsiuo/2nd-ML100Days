{
 "cells": [
  {
   "cell_type": "markdown",
   "metadata": {},
   "source": [
    "# 作業\n",
    "* 試著想想看, 非監督學習是否有可能使用評價函數 (Metric) 來鑑別好壞呢?  \n",
    "(Hint : 可以分為 \"有目標值\" 與 \"無目標值\" 兩個方向思考)"
   ]
  },
  {
   "cell_type": "code",
   "execution_count": null,
   "metadata": {
    "collapsed": true
   },
   "outputs": [],
   "source": [
    "'''\n",
    "非監督學習允許我們在對結果無法預知時接近問題。非監督學習演算法只基於輸入資料找出模式。\n",
    "\n",
    "當我們無法確定尋找內容，或無標記 (y) 資料時，通常會⽤用這個演算法，幫助我們了了解資料模式。\n",
    "\n",
    "監督式學習因有目標值可以訓練模型,因此模行評估講求準確度,\n",
    "\n",
    "非監督督式學習理,因沒有目標值,所以很難衡量演算法的準確性,\n",
    "\n",
    "所以不易使用評價函數(Metric)來鑑別好壞。\n",
    "\n",
    "'''\n",
    "\n"
   ]
  }
 ],
 "metadata": {
  "kernelspec": {
   "display_name": "Python 3",
   "language": "python",
   "name": "python3"
  },
  "language_info": {
   "codemirror_mode": {
    "name": "ipython",
    "version": 3
   },
   "file_extension": ".py",
   "mimetype": "text/x-python",
   "name": "python",
   "nbconvert_exporter": "python",
   "pygments_lexer": "ipython3",
   "version": "3.7.1"
  }
 },
 "nbformat": 4,
 "nbformat_minor": 1
}
