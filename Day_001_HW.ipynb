**作業1**
為什什麼這個問題重要？
ans : 因為自殺的問題在社會中有越來越嚴重的趨勢，可以了解哪個年齡層會有這個傾向
資料從何而來?
ans : 資料從United Nations Development Program,World Bank,[Szamil],World Health Organization
蒐集而來的資料型態為何?
ans : 可量化的有 year,age,suicides_no,population...
這組資料想解決的問題如何評估?
ans : 自殺率

**作業2**
核心問題為何?
ans : 淨利提升 / 假設淨利會受乘車率，年齡，乘客個人所得影響，找出影響最大的原因
資料從何而來?
ans : 乘車率，個人所得... / 發問卷填寫，
蒐集而來的資料型態為何?
ans : 表格-年齡，收入，是否會想搭乘車隊...
你要回答的問題，其如何評估?
ans : 請乘客填寫所需資料，並將其整理並分析，統整每個月的車隊收入，是否與假設相同
